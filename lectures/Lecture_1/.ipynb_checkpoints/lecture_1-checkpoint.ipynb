{
 "cells": [
  {
   "cell_type": "markdown",
   "metadata": {
    "slideshow": {
     "slide_type": "slide"
    }
   },
   "source": [
    "# Lecture #1: Course Overview\n",
    "## AM 207: Advanced Scientific Computing\n",
    "### Stochastic Methods for Data Analysis, Inference and Optimization\n",
    "### Fall, 2020"
   ]
  },
  {
   "cell_type": "markdown",
   "metadata": {
    "slideshow": {
     "slide_type": "slide"
    }
   },
   "source": [
    "<img src=\"fig/logos.jpg\" style=\"height:150px;\">"
   ]
  },
  {
   "cell_type": "code",
   "execution_count": 1,
   "metadata": {
    "slideshow": {
     "slide_type": "skip"
    }
   },
   "outputs": [],
   "source": [
    "from IPython.display import HTML"
   ]
  },
  {
   "cell_type": "markdown",
   "metadata": {
    "slideshow": {
     "slide_type": "slide"
    }
   },
   "source": [
    "## Outline\n",
    "1. What is this course about?\n",
    "2. What technology do I need?\n",
    "3. How is this course structured?\n",
    "4. How do I get help for the course?\n",
    "5. Final words of advice"
   ]
  },
  {
   "cell_type": "markdown",
   "metadata": {
    "slideshow": {
     "slide_type": "slide"
    }
   },
   "source": [
    "# What is this course about?"
   ]
  },
  {
   "cell_type": "markdown",
   "metadata": {
    "slideshow": {
     "slide_type": "slide"
    }
   },
   "source": [
    "## How Do We Model Patterns in Data?\n",
    "\n",
    "This is a scatter plot of home prices vs square footage of some homes in southern California.\n",
    "\n",
    "<img src=\"fig/fig32.jpg\" style=\"height:350px;\">\n",
    "\n",
    "Can you see any patterns or trends?\n"
   ]
  },
  {
   "cell_type": "markdown",
   "metadata": {
    "slideshow": {
     "slide_type": "slide"
    }
   },
   "source": [
    "## How Do We Model Patterns in Data?\n",
    "\n",
    "We see that as **square footage** increases, so does **price**. \n",
    "\n",
    "<img src=\"fig/fig32.jpg\" style=\"height:350px;\">\n",
    "\n",
    "But what is a precise, mathematical description of this relationship?"
   ]
  },
  {
   "cell_type": "markdown",
   "metadata": {
    "slideshow": {
     "slide_type": "slide"
    }
   },
   "source": [
    "## What is a Model?\n",
    "\n",
    "Building a model to capture a hypothesized relationship means we predict the value of one group of attributes using another group. \n",
    "\n",
    "This prediction problem is called ***regression***, the attribute we are trying to predict (e.g.price) is called the ***outcome*** or the ***target***, denoted by $y$. \n",
    "\n",
    "The group of attributes (e.g. square footage) we use to make the prediction is called the ***covariates***, denoted by $x$.\n",
    "\n",
    "A ***regression model*** is a mathematical function, $f(x)$, that predicts the target. We denote our prediction by $\\hat{y} = f(x)$. "
   ]
  },
  {
   "cell_type": "markdown",
   "metadata": {
    "slideshow": {
     "slide_type": "slide"
    }
   },
   "source": [
    "## What is a Model?\n",
    "\n",
    "We conjectured that the model for this data is a line: $\\hat{y} = f(x) = w_1x + w_0$.\n",
    "\n",
    "<img src=\"fig/fig33.jpg\" style=\"height:350px;\">\n",
    "\n",
    "But which line fits the data best?"
   ]
  },
  {
   "cell_type": "markdown",
   "metadata": {
    "slideshow": {
     "slide_type": "slide"
    }
   },
   "source": [
    "## A Notion of Error\n",
    "\n",
    "An ***absolute residual*** is the absolute difference between the actual price of a home and the price predicted by the line for a given square footage:\n",
    "$$\n",
    "\\mathtt{Residual}_n = y_n - \\hat{y}_n\n",
    "$$\n",
    "\n",
    "<img src=\"fig/fig34.jpg\" style=\"height:350px;\">"
   ]
  },
  {
   "cell_type": "markdown",
   "metadata": {
    "slideshow": {
     "slide_type": "slide"
    }
   },
   "source": [
    "## How do we quantify the overall error?\n",
    "\n",
    "1. **(Max absolute deviation)** Count only the biggest \"error\"\n",
    "$$\n",
    "\\max_n |y_n - \\hat{y}_n| \n",
    "$$\n",
    "2. **(Sum of absolute deviations)** Add up all the \"errors\"\n",
    "$$\n",
    "\\sum_n |y_n - \\hat{y}_n| \n",
    "$$\n",
    "3. **(Sum of squared errors)** Add up the squares of the \"errors\"\n",
    "$$\n",
    "\\sum_n |y_n - \\hat{y}_n|^2 \n",
    "$$\n",
    "4. **(Mean squared errors)** We can also average the squared \"errors\".\n",
    "$$\n",
    "\\frac{1}{N}\\sum_{n=1}^N |y_n - \\hat{y}_n|^2 \n",
    "$$\n",
    "\n",
    "Again, $y_n$ is the observed target, $\\hat{y}_n$ is the predicted target."
   ]
  },
  {
   "cell_type": "markdown",
   "metadata": {
    "slideshow": {
     "slide_type": "slide"
    }
   },
   "source": [
    "## Model Fitting\n",
    "\n",
    "**Question:** What do we mean by choosing \"best\" line, $\\hat{y} = w_1x + w_0$? \n",
    "\n",
    "The ***model fitting*** process:\n",
    "\n",
    "1. *Choose* an overall error metric. This metric is called the ***loss function*** or ***training objective***:\n",
    "$$\n",
    "\\mathcal{L}(w_1, w_0) = \\frac{1}{N}\\sum_{n=1}^N |y_n - (w_1x_n + w_0)|^2, \\quad\\quad \\text{(Mean Squared Error Loss)}\n",
    "$$\n",
    "\n",
    "2. Set up the problem of finding coefficients or ***parameters***, $w_0, w_1$, such that the loss function is **minimized**:\n",
    "$$\n",
    "\\underset{w_0, w_1}{\\mathrm{argmin}}\\mathcal{L}(w_1, w_0) = \\underset{w_0, w_1}{\\mathrm{argmin}}\\frac{1}{N}\\sum_{n=1}^N |y_n - (w_1x_n + w_0)|^2 \n",
    "$$\n",
    "\n",
    "3. Choose a method of minimizing the loss function.\n",
    "\n",
    "**Note:** For linear regression, we can minimize $\\mathcal{L}$ analytically. We cannot do this for every model!"
   ]
  },
  {
   "cell_type": "markdown",
   "metadata": {
    "slideshow": {
     "slide_type": "skip"
    }
   },
   "source": [
    "## Linear Regression in `sklearn`\n",
    "\n",
    "```python\n",
    "# import the LinearRegression model from the sklearn library\n",
    "from sklearn.linear_model import LinearRegression\n",
    "\n",
    "# make an instance of the linear regression model\n",
    "regression = LinearRegression()\n",
    "\n",
    "# find the coefficients for the line that minimizes mean squared error\n",
    "regression.fit(x_train, y_train)\n",
    "```"
   ]
  },
  {
   "cell_type": "markdown",
   "metadata": {
    "slideshow": {
     "slide_type": "slide"
    }
   },
   "source": [
    "## What is a Statistical Model?\n",
    "Perhaps our **choice** of an overall error can be less arbitrary if we explain how, we believe, the residual arise.\n",
    "\n",
    "**Belief:** The theoretical relationship between price and square footage ($x$) is given by $f(x)$. But, in real-life, due to unpredictable circumstances observed prices ($y$) differ from $f(x)$ by some random amount, $\\epsilon$, called ***noise***:\n",
    "$$\n",
    "y = f(x) + \\epsilon, \\quad \\epsilon \\sim p(\\epsilon)\n",
    "$$\n",
    "\n",
    "A ***statistical model*** is one that explicitly accounts for uncertainty or randomness. "
   ]
  },
  {
   "cell_type": "markdown",
   "metadata": {
    "slideshow": {
     "slide_type": "slide"
    }
   },
   "source": [
    "## A Statistical Model for Regression\n",
    "\n",
    "Let us *assume* that (1) the underlying relationship between price and square footage $x$ is given by $f(x) = w_1x + w_0$; (2) that the observed price $y$ deviates from $f(x)$ by a random amount that is independent from $x$ and is distributed as $\\mathcal{N}(0, 1)$:\n",
    "\n",
    "$$\n",
    "y = f(x) + \\epsilon, \\quad \\epsilon \\overset{\\text{iid}}{\\sim} \\mathcal{N}(0, 1)\n",
    "$$\n",
    "\n",
    "Note that $y$ is now a random variable with distribution $\\mathcal{N}(f(x), 1)$, denoted by $p(y|x, w_1, w_0)$."
   ]
  },
  {
   "cell_type": "markdown",
   "metadata": {
    "slideshow": {
     "slide_type": "slide"
    }
   },
   "source": [
    "## How Do We Quantify Fitness?\n",
    "\n",
    "Given our statistical model, a natural way for quantifying how well $f(x) = w_1x + w_0$ fits the data is by checking how likely our choice of $w_0$ and $w_1$ makes the observed data, i.e. compute\n",
    "$$\n",
    "\\mathcal{L}(w_1, w_0) = \\prod_{n=1}^N p(y_n|x_n, w_1, w_0).\n",
    "$$\n",
    "The function $\\mathcal{L}(w_1, w_0)$ is called the ***likelihood function***.\n",
    "\n",
    "**Exercise:** suppose we have two models, $f(x) = 3x + 2$ and $f(x) = 10 - x$. Suppose that $\\mathcal{L}(w_1=3, w_0=2) = 10.2$ and $\\mathcal{L}(w_1=-1, w_0=10) = 0.002$. Which model is a better fit for the data and why?"
   ]
  },
  {
   "cell_type": "markdown",
   "metadata": {
    "slideshow": {
     "slide_type": "slide"
    }
   },
   "source": [
    "## Model Fitting\n",
    "\n",
    "**Question:** What do we mean by choosing \"best\" line, $\\hat{y} = f(x) = w_1x + w_0$? \n",
    "\n",
    "The ***model fitting*** process:\n",
    "\n",
    "1. *Choose* a method of estimation for statistical models. For example, set up the problem of finding coefficients or ***parameters***, $w_0, w_1$, such that the likelihood of the data is **maximized**:\n",
    "$$\n",
    "\\mathrm{argmax}_{w_0, w_1}\\mathcal{L}(w_1, w_0) = \\mathrm{argmax}_{w_0, w_1}\\prod_{n=1}^N p(y_n|x_n, w_1, w_0) \n",
    "$$\n",
    "\n",
    "3. Choose a method of computing the estimate. For example, choose a way to maximize the likelihood."
   ]
  },
  {
   "cell_type": "markdown",
   "metadata": {
    "slideshow": {
     "slide_type": "slide"
    }
   },
   "source": [
    "## Maximimum Likelihood and Minimum Mean Square Error\n",
    "\n",
    "Given our statistical model\n",
    "$$\n",
    "y = f(x) + \\epsilon, \\quad \\epsilon \\overset{\\text{iid}}{\\sim} \\mathcal{N}(0, 1)\n",
    "$$\n",
    "Maximimizing the likelihood is equivalent to minimizing the mean squared error:\n",
    "$$\n",
    "\\mathrm{argmax}_{w_0, w_1}\\prod_{n=1}^N p(y_n|x_n, w_1, w_0) \\equiv \\mathrm{argmin}_{w_0, w_1}\\frac{1}{N}\\sum_{i=1}^N |y_i - (w_1x_1 + w_0)|^2 \n",
    "$$\n",
    "\n",
    "*Hint: note that* \n",
    "$$\\prod_{n=1}^Np(y_n|x_n, w_1, w_0) = \\frac{1}{\\sqrt{2\\pi 1}^N} \\exp\\left\\{-\\frac{\\sum_{i=1}^N(y_n - (w_1x_n + w_0))^2}{2 * 1} \\right\\}$$ \n",
    "*and that*\n",
    "$$\\log p(y|x, w_1, w_0) = N\\log\\left(\\frac{1}{\\sqrt{2\\pi 1}}\\right) - \\frac{\\sum_{i=1}^N(y_n - (w_1x_n + w_0))^2}{2 * 1} $$"
   ]
  },
  {
   "cell_type": "markdown",
   "metadata": {
    "slideshow": {
     "slide_type": "slide"
    }
   },
   "source": [
    "## Model Evaluation\n",
    "After fitting the model (finding coefficients that maximizes the likelihood or that minimizes the loss function), we need to **check the error or residuals of the model**. Why?\n",
    "\n",
    "<img src=\"fig/fig36.jpg\" style=\"height:300px;\">\n",
    "\n",
    "Working with statistical models gives us an advantage in model evaluation, can you see why?"
   ]
  },
  {
   "cell_type": "markdown",
   "metadata": {
    "slideshow": {
     "slide_type": "slide"
    }
   },
   "source": [
    "## Model Interpretation\n",
    "\n",
    "In addition to evaluating our model on training and testing data, we must also examine the coefficients themselves. Why?\n",
    "\n",
    "<img src=\"fig/fig35.jpg\" style=\"height:300px;\">\n"
   ]
  },
  {
   "cell_type": "markdown",
   "metadata": {
    "slideshow": {
     "slide_type": "slide"
    }
   },
   "source": [
    "## What is a Bayesian Model?\n",
    "In addition to a statistical model that explains trends $f(x)$ and observation noise $\\epsilon$, we also want to incorporate our **prior beliefs** about the model. Finally, we want to obtain a measure of **uncertainty** for our parameter estimates as well as our predictions.\n",
    "\n",
    "Our Bayesian model for linear regression:\n",
    "\\begin{aligned}\n",
    "y &= w_1x + w_0 +\\epsilon\\\\\n",
    "\\epsilon &\\overset{\\text{iid}}{\\sim} \\mathcal{N}(0, 1)\\\\\n",
    "w_1 &\\sim p(w_1)\\\\\n",
    "w_0 &\\sim p(w_0)\\\\\n",
    "\\end{aligned}\n",
    "\n",
    "where the prior $p(w_i)$ may express that we want $w_i$ to be non-negative and not too large."
   ]
  },
  {
   "cell_type": "markdown",
   "metadata": {
    "slideshow": {
     "slide_type": "slide"
    }
   },
   "source": [
    "## Model Inference\n",
    "How do we \"learn\" the parameters in a Bayesian model?\n",
    "\n",
    "Baye's Rule gives us a way to obtain a distribution over $w_1, w_0$ given the data $(x_1, y_1), \\ldots, (x_N, y_N)$:\n",
    "\n",
    "$$\n",
    "p(w_1, w_0 | x_1, \\ldots, x_N, y_1, \\ldots, y_N) \\propto \\underbrace{\\left(\\prod_{n=1}^N p(y_n|x_n, w_1, w_0)\\right)}_{\\text{How well params fit the data}} \\underbrace{p(w_1)p(w_0)}_{\\text{How well the params fit priors}}\n",
    "$$\n",
    "\n",
    "The distirbution $p(w_1, w_0 | x_1, \\ldots, x_N, y_1, \\ldots, y_N)$ is called the ***poseterior*** and gives the likelihood of a pair of parameters $w_1, w_0$ given the observed data.\n",
    "\n",
    "We see that the likelihood score of the parameters under the posterior is influence both by how well the parameters fit the data and how well the parameters fit our prior beliefs."
   ]
  },
  {
   "cell_type": "markdown",
   "metadata": {
    "slideshow": {
     "slide_type": "slide"
    }
   },
   "source": [
    "## Bayesian Linear Regression\n",
    "\n",
    "When we choose normal priors for the parameters in a linear regression model, for example,\n",
    "\n",
    "\\begin{aligned}\n",
    "y &=  w_1x + w_0 + \\epsilon\\\\\n",
    "\\epsilon &\\overset{\\text{iid}}{\\sim} \\mathcal{N}(0, 1)\\\\\n",
    "w_1 &\\sim \\mathcal{N}(0, 0.5)\\\\\n",
    "w_0 &\\sim \\mathcal{N}(0, 1)\\\\\n",
    "\\end{aligned}\n",
    "\n",
    "The posterior $p(w_1, w_0 | x_1, \\ldots, x_N, y_1, \\ldots, y_N)$ is again a (multivariate) normal distribution, $\\mathcal{N}(\\mu, \\Sigma)$, and we can derive closed form solutions for $\\mu$ and $\\Sigma$.\n",
    "\n",
    "Why is this observation important?"
   ]
  },
  {
   "cell_type": "markdown",
   "metadata": {
    "slideshow": {
     "slide_type": "slide"
    }
   },
   "source": [
    "## Bayesian versus Frequentist Uncertainty\n",
    "\n",
    "The main advantage of the Bayesian approach is that rather than obtaining a single \"best\" estimate of the model parameters, the posterior gives us a distribution over a set of plausible model parameters (with some models being more likely than others).\n",
    "\n",
    "The spread of this distribution over plausible models naturally gives us a way to quantify our **uncertainty** over which is the \"best\" model. When the spread is wide (when many very different models are equally very likely), our uncertainty is high. When the spread is narrow (when all likely models look very similar), our uncertainty is low.\n",
    "\n",
    "We can also obtain a sense of uncertainty over models using the non-Bayesian probabilistic model. Typically, we randomly sample sets of training data point from the training data, on each set, we compute the MLE of the model parameters. This process is called **bootstrapping**.\n",
    "\n",
    "In HW#0 you will compare the uncertainties from the posteriors of Bayesian models with those from bootstrapping maximum likelihood models. "
   ]
  },
  {
   "cell_type": "markdown",
   "metadata": {
    "slideshow": {
     "slide_type": "slide"
    }
   },
   "source": [
    "## Model Evaluation\n",
    "\n",
    "With a Bayesian model we get a distribution $p(w_1, w_0| \\text{Data})$ over likely functions rather than a single function $f(x) = w_1x + w_0$. How then do we evaluate the \"error\" of model?\n",
    "\n",
    "In the Maximum Likelihood model, we can explicitly check the correctness of our assumptions by checking the distribution of the residuals. How do we criticize a Bayesian model?"
   ]
  },
  {
   "cell_type": "markdown",
   "metadata": {
    "slideshow": {
     "slide_type": "slide"
    }
   },
   "source": [
    "## Why is This Hard?\n",
    "\n",
    "1. Stating that our goal is to maximize likelihood or minimize MSE is easy. Finding the optimal parameters is often very hard (especially if $f(x)$ is not linear, but rather, a complex function represented by a neural network).\n",
    "<br><br>\n",
    "2. If we choose more \"interesting\" or \"expressive\" priors, or if we choose more complex $f(x)$, then it is often the case that the posterior cannot be computed in closed form.\n",
    "\n",
    "Both model fitting and inference requires sophisticated algorithms derived from deep theoretical understanding of the models."
   ]
  },
  {
   "cell_type": "markdown",
   "metadata": {
    "slideshow": {
     "slide_type": "slide"
    }
   },
   "source": [
    "## What is AM207?\n",
    "\n",
    "1. Build statistical (Bayesian and non-Bayesian) models for: continuous, ordinal and categorical data\n",
    "2. Study algorithms for model fitting and inference\n",
    "3. Study paradigms for model evaluation and critique\n",
    "\n",
    "**Goal:** students become familiar with standard statistical models and modern techniques of inference. At the end of the course you should be able to productively read current machine learning research papers.\n",
    "\n",
    "**Focus:** \n",
    "- **Why:** theory should serve a concrete purpose. \n",
    "- **How:** emphasize computational aspects of inference.\n",
    "\n",
    "**Related Courses:** Bayesian Inference (Stats), Advanced Machine Learning (CS), Computational Statistics (Stats)"
   ]
  },
  {
   "cell_type": "markdown",
   "metadata": {
    "slideshow": {
     "slide_type": "slide"
    }
   },
   "source": [
    "# What technologies do you need for this class?"
   ]
  },
  {
   "cell_type": "markdown",
   "metadata": {
    "slideshow": {
     "slide_type": "slide"
    }
   },
   "source": [
    "## For Virtual Meetings\n",
    "\n",
    "- Class meetings will happen over [Zoom](https://zoom.us). \n",
    "\n",
    "- Office hours will happen in a [gather.town](https://gather.town) room. \n",
    "\n",
    "- All students should connect to class meetings and office hours with an iPad (note that gather.town does not load on an iPad) or drawing pad, if you do not have access to one, contact the instructor as soon as possible.\n",
    "\n",
    "- For collaborative white-boarding please familiarize yourselves with either [ZiteBoard](https://app.ziteboard.com) or [Miro](https://miro.com/)."
   ]
  },
  {
   "cell_type": "markdown",
   "metadata": {
    "slideshow": {
     "slide_type": "slide"
    }
   },
   "source": [
    "## `gather.town`'s Virtual Environment"
   ]
  },
  {
   "cell_type": "code",
   "execution_count": 4,
   "metadata": {
    "slideshow": {
     "slide_type": "fragment"
    }
   },
   "outputs": [
    {
     "data": {
      "text/html": [
       "<iframe width=\"560\" height=\"315\" src=\"https://www.youtube.com/embed/dqG6-ehe39w?rel=0&amp;controls=0&amp;showinfo=0\" frameborder=\"0\" allowfullscreen></iframe>"
      ],
      "text/plain": [
       "<IPython.core.display.HTML object>"
      ]
     },
     "execution_count": 4,
     "metadata": {},
     "output_type": "execute_result"
    }
   ],
   "source": [
    "HTML('<iframe width=\"560\" height=\"315\" src=\"https://www.youtube.com/embed/dqG6-ehe39w?rel=0&amp;controls=0&amp;showinfo=0\" frameborder=\"0\" allowfullscreen></iframe>')"
   ]
  },
  {
   "cell_type": "markdown",
   "metadata": {
    "slideshow": {
     "slide_type": "slide"
    }
   },
   "source": [
    "## For Completing Assignments\n",
    "Homework will be completed in Jupyter Notebooks.\n",
    "\n",
    "You have one of two options\n",
    "1. Download the latest [Anaconda `python` 3.x](https://www.anaconda.com/products/individual) distribution on your personal machine\n",
    "2. Complete homework using [Google Colab](https://colab.research.google.com) - a free cloud computing service that comes with pre-installed machine learning tools. Colab is built on Jupyter Notebooks, an open-source web application that allows you to create and share documents that contain live code, equations, visualizations and narrative text. "
   ]
  },
  {
   "cell_type": "markdown",
   "metadata": {
    "slideshow": {
     "slide_type": "slide"
    }
   },
   "source": [
    "## For In-Class Exercises\n",
    "\n",
    "In class exercises are completed in [Google Colab](https://colab.research.google.com). Save a copy of the starter code to your Google Drive. Turn on \"Sharing\" for your notebook and submit the share link to the Course Canvas. Each group submits a single notebook."
   ]
  },
  {
   "cell_type": "code",
   "execution_count": 3,
   "metadata": {
    "slideshow": {
     "slide_type": "fragment"
    }
   },
   "outputs": [
    {
     "data": {
      "text/html": [
       "<iframe width=\"560\" height=\"315\" src=\"https://www.youtube.com/embed/Dvv-gEKd_Jc?rel=0&amp;controls=0&amp;showinfo=0\" frameborder=\"0\" allowfullscreen></iframe>"
      ],
      "text/plain": [
       "<IPython.core.display.HTML object>"
      ]
     },
     "execution_count": 3,
     "metadata": {},
     "output_type": "execute_result"
    }
   ],
   "source": [
    "HTML('<iframe width=\"560\" height=\"315\" src=\"https://www.youtube.com/embed/Dvv-gEKd_Jc?rel=0&amp;controls=0&amp;showinfo=0\" frameborder=\"0\" allowfullscreen></iframe>')"
   ]
  },
  {
   "cell_type": "markdown",
   "metadata": {
    "slideshow": {
     "slide_type": "slide"
    }
   },
   "source": [
    "# How is this course structured?"
   ]
  },
  {
   "cell_type": "markdown",
   "metadata": {
    "slideshow": {
     "slide_type": "slide"
    }
   },
   "source": [
    "## Graded Components\n",
    "\n",
    "1. In-class group exercises\n",
    "2. 10 equally weighted weekly homework\n",
    "3. 1 group project\n",
    "\n",
    "Each homework will be a combination of derivations/proofs (theory) and programming (implementation).\n",
    "\n",
    "The group project involves choosing one pre-approved research paper and producing a tutorial in Jupyter Notebook to demonstrate the concepts and methodologies in the paper."
   ]
  },
  {
   "cell_type": "markdown",
   "metadata": {
    "slideshow": {
     "slide_type": "slide"
    }
   },
   "source": [
    "## Policies\n",
    "\n",
    "**Grading:** Unreadable formatting or code with syntactic or runtime errrors will not be graded. \"Right\" answer without a (brief) justification will not receive full score. You can drop your lowest HW grade.\n",
    "\n",
    "**Late HW:** Each student has **three** late days that can be applied to any one or two homework. Outside of late days, late submissions will not be accepted.\n",
    "\n",
    "**Collaboration:** Collaboration is strongly encouraged, but copying is strictly not allowed (see policy on Syllabus).\n",
    "\n",
    "**Attendance:** Attendance of class meetings is required. Attendance waivers can be obtained by contacting the instructor."
   ]
  },
  {
   "cell_type": "markdown",
   "metadata": {
    "slideshow": {
     "slide_type": "slide"
    }
   },
   "source": [
    "# How do I get help for the course?"
   ]
  },
  {
   "cell_type": "markdown",
   "metadata": {
    "slideshow": {
     "slide_type": "slide"
    }
   },
   "source": [
    "## Teaching Staff\n",
    "\n",
    "**Instructor:** Weiwei Pan\n",
    "\n",
    "**TFs:** \n",
    "- Ruby Zhang: Saturday 9:30am - 11:00am\n",
    "- Rylan Schaeffer: Saturday 4:00pm - 5:30pm\n",
    "- Jonathan Chu: Saturday 8:00pm - 9:30pm\n",
    "- Qiuyang Yin: Sunday 9:30am - 11:00am\n",
    "- Lin Zhu: Sunday 3:30pm - 5:00pm\n",
    "- Théo Guenais: Monday 10:30am-12:00pm\n",
    "- Dimitris Vamvourellis: Monday 3:30pm-5:00pm\n",
    "- Cooper Lorsung: Tuesday 10:30am-12:00pm\n",
    "- Hari Kothapalli: Tuesday 3:30pm-5:00pm\n",
    "- Jiayu Yao: Wednesday 9:00am-10:30am\n",
    "- Michael Downs (Grading TF)\n",
    "- Yaniv Yacoby (Project TF)\n",
    "- Kela Roberts (Extension School)"
   ]
  },
  {
   "cell_type": "markdown",
   "metadata": {
    "slideshow": {
     "slide_type": "slide"
    }
   },
   "source": [
    "## TF Office Hours\n",
    "\n",
    "Students need to submit their questions as comments on the appropriate Piazza post ***prior to each TF office hour***. During each OH, similar questions will be consolidated and answered in the order they were submitted. \n",
    "\n",
    "Each OH has a specific focus, questions that are not aligned with the focus of the session will be given lower priority. For example, on Monday, questions about how to get started on homework problems will be prioritized lower than trouble-shooting questions on solutions in progress.\n",
    "\n",
    "- **(Saturday)** Focus: background concepts and homework problem setup \n",
    "- **(Sunday)** Focus: background concepts and homework problem setup\n",
    "- **(Monday)** Focus: implementation and trouble shooting\n",
    "- **(Tuesday)** Focus: implementation and trouble shooting\n",
    "- **(Wednesday)** Focus: interpretation"
   ]
  },
  {
   "cell_type": "markdown",
   "metadata": {
    "slideshow": {
     "slide_type": "slide"
    }
   },
   "source": [
    "## Instructor Office Hours\n",
    "\n",
    "The focus of TF office hours is on providing support for homework assignments. The focus on instructor office hours is to support general understanding of the class material. \n",
    "\n",
    "While you are welcome to bring questions about homework assignments to instructor office hours, you may get more out of your total face-time with staff if you can make use of both sets of office hours.\n",
    "\n",
    "Suggested workflow:\n",
    "- **(Friday)** clarify concepts covered during the week during instructor office hour\n",
    "- **(Saturday and/or Sunday)** setup all homework problems during TF office hours\n",
    "- **(Monday and/or Tuesday)** trouble-shoot implementation issues during TF office hours\n",
    "- **(Wednsday)** discuss interpretation during instructor office hour"
   ]
  },
  {
   "cell_type": "markdown",
   "metadata": {
    "slideshow": {
     "slide_type": "slide"
    }
   },
   "source": [
    "## Piazza\n",
    "\n",
    "There is a course Piazza to faciliate collaboration amongst students. \n",
    "\n",
    "Teaching staff moderate the discussions but are **not responsible for answering questions**! \n",
    "\n",
    "If you want help from the staff come to an office hour or schedule a meeting."
   ]
  },
  {
   "cell_type": "markdown",
   "metadata": {
    "slideshow": {
     "slide_type": "slide"
    }
   },
   "source": [
    "## Extension Students\n",
    "\n",
    "The dedicated TF for extension school students is Kela Roberts, who will answer questions via email (see email policy on Syllabus). \n",
    "\n",
    "Extension students are welcome to attend scheduled FAS TF office hours and work with FAS students in teams. However, since FAS TFs are allotted based on FAS enrollment numbers, FAS TFs will prioritize answering questions from FAS students. \n",
    "\n"
   ]
  },
  {
   "cell_type": "markdown",
   "metadata": {
    "slideshow": {
     "slide_type": "slide"
    }
   },
   "source": [
    "# Final Words of Advice"
   ]
  },
  {
   "cell_type": "markdown",
   "metadata": {
    "slideshow": {
     "slide_type": "slide"
    }
   },
   "source": [
    "## How We've Changed AM207\n",
    "\n",
    "When we learned that AM207 will be remote, we made a number of fundamental changes to maximize the time you have to interact with each other and staff (this has always been the main way learning happens in this class):\n",
    "\n",
    "1. We've doubled the sections to keep enorllment in each section small\n",
    "2. We've doubled OHs\n",
    "3. We've flipped the classroom, so that class time is interactive and active\n",
    "4. We've adopted a number of new tech to facilitate collaboration and team work"
   ]
  },
  {
   "cell_type": "markdown",
   "metadata": {
    "slideshow": {
     "slide_type": "slide"
    }
   },
   "source": [
    "## What We are Asking From You\n",
    "\n",
    "We are asking you also put in work in order to make this a successful learning experience:\n",
    "\n",
    "1. Come to office hours \n",
    "2. Ask questions:\n",
    "  - **Ask questions to understand**. There is no such thing as an obvious fact or a trivial question. Don't let shyness of intimidation prevent you from asking for help to understand something.\n",
    "  - **Ask questions to dig deeper**. Every single concept in this course serves a purpose and has a justification. Don't settle for knowing facts, there's always a questions you can ask about something you already know that will show you something new and something deep.\n",
    "3. Focus on creating connections, relation between and syntheses of concept. Don't worry about memorizing lines of math."
   ]
  },
  {
   "cell_type": "markdown",
   "metadata": {
    "slideshow": {
     "slide_type": "slide"
    }
   },
   "source": [
    "## How to Work in Teams\n",
    "\n",
    "Most of the work you do in AM207 you will do in teams. Since this is a traditionally diverse class in terms of backgrounds, your teammates will likely not have the same outlook and expertise as you.\n",
    "\n",
    "1. **When you're the one in the know** If you find a section of the material easy, don't settle for just doing the work for your team! Your challenge in this case is to teach, find a way to bring your teammates to your level of understanding. \n",
    "2. **When you're the one in the dark** If you find yourself lost on a task and someone else seems to be taking the lead, don't settle into the \"back-seat\"! Your challenge in this case is to ask good critical questions and interrogate the validity of every \"answer\" being proposed.\n",
    "3. **When you disagree** Solicit everyone's opinion, take time to understand what they are saying, be open to discussions (be able to suspend your own skepticism). When you can't reconcile difference, come to us and we can continue the discussion."
   ]
  }
 ],
 "metadata": {
  "celltoolbar": "Slideshow",
  "kernelspec": {
   "display_name": "Python 3",
   "language": "python",
   "name": "python3"
  },
  "language_info": {
   "codemirror_mode": {
    "name": "ipython",
    "version": 3
   },
   "file_extension": ".py",
   "mimetype": "text/x-python",
   "name": "python",
   "nbconvert_exporter": "python",
   "pygments_lexer": "ipython3",
   "version": "3.7.4"
  }
 },
 "nbformat": 4,
 "nbformat_minor": 2
}
